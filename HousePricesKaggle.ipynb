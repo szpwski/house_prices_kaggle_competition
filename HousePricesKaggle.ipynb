{
 "cells": [
  {
   "cell_type": "markdown",
   "metadata": {},
   "source": [
    "# Libraries"
   ]
  },
  {
   "cell_type": "code",
   "execution_count": null,
   "metadata": {},
   "outputs": [],
   "source": [
    "import numpy as np\n",
    "import pandas as pd\n",
    "import matplotlib.pyplot as plt\n",
    "import seaborn as sns\n",
    "import random\n",
    "import warnings\n",
    "warnings.filterwarnings('ignore')\n",
    "from sklearn import preprocessing\n",
    "from sklearn.model_selection import train_test_split\n",
    "from sklearn import svm\n",
    "from sklearn.preprocessing import StandardScaler\n",
    "from sklearn.model_selection import GridSearchCV \n",
    "from sklearn.metrics import r2_score\n",
    "from sklearn.metrics import mean_squared_error\n",
    "from scipy.stats import norm, skew"
   ]
  },
  {
   "cell_type": "markdown",
   "metadata": {},
   "source": [
    "# Loading data"
   ]
  },
  {
   "cell_type": "code",
   "execution_count": null,
   "metadata": {},
   "outputs": [],
   "source": [
    "train = pd.read_csv(\"train.csv\")\n",
    "test = pd.read_csv(\"test.csv\")"
   ]
  },
  {
   "cell_type": "code",
   "execution_count": null,
   "metadata": {},
   "outputs": [],
   "source": [
    "df = pd.concat([train,test])"
   ]
  },
  {
   "cell_type": "code",
   "execution_count": null,
   "metadata": {},
   "outputs": [],
   "source": [
    "df.head()"
   ]
  },
  {
   "cell_type": "code",
   "execution_count": null,
   "metadata": {},
   "outputs": [],
   "source": [
    "df.info()"
   ]
  },
  {
   "cell_type": "markdown",
   "metadata": {},
   "source": [
    "# EDA "
   ]
  },
  {
   "cell_type": "markdown",
   "metadata": {},
   "source": [
    "Checking the skewness of data"
   ]
  },
  {
   "cell_type": "code",
   "execution_count": null,
   "metadata": {},
   "outputs": [],
   "source": [
    "#skewness and kurtosis\n",
    "print(\"Skewness: %f\" % train['SalePrice'].skew())\n",
    "print(\"Kurtosis: %f\" % train['SalePrice'].kurt())"
   ]
  },
  {
   "cell_type": "code",
   "execution_count": null,
   "metadata": {},
   "outputs": [],
   "source": [
    "sns.distplot(train['SalePrice'], color= 'purple',fit=norm);\n",
    "plt.xticks(rotation=90);\n",
    "plt.show()"
   ]
  },
  {
   "cell_type": "markdown",
   "metadata": {},
   "source": [
    "The data is right-skewed which may affect our model.\n",
    "More info: https://towardsdatascience.com/skewed-data-a-problem-to-your-statistical-model-9a6b5bb74e37"
   ]
  },
  {
   "cell_type": "markdown",
   "metadata": {},
   "source": [
    "Making log transformation to achieve normal distribution"
   ]
  },
  {
   "cell_type": "code",
   "execution_count": null,
   "metadata": {},
   "outputs": [],
   "source": [
    "train.SalePrice = np.log(train.SalePrice)\n",
    "df.SalePrice = np.log(df.SalePrice)"
   ]
  },
  {
   "cell_type": "code",
   "execution_count": null,
   "metadata": {},
   "outputs": [],
   "source": [
    "sns.distplot(train['SalePrice'], color= 'purple', fit=norm);\n",
    "plt.show()\n",
    "print(\"Skewness: %f\" % train['SalePrice'].skew())\n",
    "print(\"Kurtosis: %f\" % train['SalePrice'].kurt())"
   ]
  },
  {
   "cell_type": "code",
   "execution_count": null,
   "metadata": {},
   "outputs": [],
   "source": [
    "#saleprice correlation matrix\n",
    "\n",
    "cols = train.corr().nlargest(10, 'SalePrice')['SalePrice'].index\n",
    "cols = np.array(list(reversed(cols)))\n",
    "cm = train[cols].corr()\n",
    "mask = np.triu(np.ones_like(cm, dtype=np.bool))\n",
    "\n",
    "f, ax = plt.subplots(figsize=(12, 9))\n",
    "g1 = sns.heatmap(cm,cmap='mako_r',fmt='.2f', annot=True, mask=mask)\n",
    "g1.set_xticklabels(g1.get_xticklabels(),rotation=70,fontsize=10)\n",
    "g1.set_yticklabels(g1.get_yticklabels(),rotation=15,fontsize=10)\n",
    "plt.title(\"Triangle Correlation Plot of Features\")\n",
    "plt.show()"
   ]
  },
  {
   "cell_type": "markdown",
   "metadata": {},
   "source": [
    "Conclusions:\n",
    "1. All of those features have influence on Sale Price\n",
    "2. Pairs: GrLivArea and TotRmsAbvGrd, TotalBsmtSF and 1stFlrSF, GarageCars and GarageArea are higly correlated with each other\n",
    "3. Heatmap does not include categorical data which we will look after in next steps"
   ]
  },
  {
   "cell_type": "code",
   "execution_count": null,
   "metadata": {},
   "outputs": [],
   "source": [
    "sns.pairplot(train[[\"GrLivArea\",\"TotRmsAbvGrd\",\"SalePrice\"]])\n",
    "plt.show()"
   ]
  },
  {
   "cell_type": "markdown",
   "metadata": {},
   "source": [
    "GrLivArea seems to be explain slightly better than TotRmsAbvGrd that is why we will consider reducing number of features by dropping TotRmsAbvGrd."
   ]
  },
  {
   "cell_type": "code",
   "execution_count": null,
   "metadata": {},
   "outputs": [],
   "source": [
    "sns.pairplot(train[[\"TotalBsmtSF\",\"1stFlrSF\",\"SalePrice\"]])\n",
    "plt.show()"
   ]
  },
  {
   "cell_type": "code",
   "execution_count": null,
   "metadata": {},
   "outputs": [],
   "source": [
    "sns.pairplot(train[[\"GarageCars\",\"GarageArea\",\"SalePrice\"]])\n",
    "plt.show()"
   ]
  },
  {
   "cell_type": "markdown",
   "metadata": {},
   "source": [
    "Similarly to situation with GrLivArea, the GarageArea feature will be excluded."
   ]
  },
  {
   "cell_type": "markdown",
   "metadata": {},
   "source": [
    "# Feature Engineering"
   ]
  },
  {
   "cell_type": "code",
   "execution_count": null,
   "metadata": {},
   "outputs": [],
   "source": [
    "df.info()"
   ]
  },
  {
   "cell_type": "markdown",
   "metadata": {},
   "source": [
    "# List of features containing NA's"
   ]
  },
  {
   "cell_type": "markdown",
   "metadata": {},
   "source": [
    "1. MSZoning, \n",
    "2. LotFrontage, \n",
    "3. Alley (more than 2000), \n",
    "4. Utilities, \n",
    "5. Exterior1st, \n",
    "6. Exterior2nd, \n",
    "7. MasVnrType, \n",
    "8. MasVnrArea, \n",
    "9. BsmtQual, \n",
    "10. BsmtCond, \n",
    "11. BsmtExposure, \n",
    "12. BsmtFinType1, \n",
    "13. BsmtFinSF1, \n",
    "14. BsmtFinType2, \n",
    "15. BsmtFinSF2, \n",
    "16. BsmtUnfSF, \n",
    "17. TotalBsmtSF, \n",
    "18. Electrical, \n",
    "19. BsmtFullBath, \n",
    "20. BsmtHalfBath, \n",
    "21. KitchenQual, \n",
    "22. Functional, \n",
    "23. FireplaceQu (more than 1000), \n",
    "24. GarageType,\n",
    "25. GarageYrBlt,\n",
    "26. GarageFinish,\n",
    "27. GarageCars,\n",
    "28. GarageArea,\n",
    "29. GarageQual,\n",
    "30. GarageCond,\n",
    "31. PoolQC(more than 2000), \n",
    "32. Fence(more than 2000), \n",
    "33. MiscFeature (more than 2000), \n",
    "34. SaleType"
   ]
  },
  {
   "cell_type": "markdown",
   "metadata": {},
   "source": [
    "# Handling with NA's"
   ]
  },
  {
   "cell_type": "code",
   "execution_count": null,
   "metadata": {},
   "outputs": [],
   "source": [
    "df.MSZoning[df.MSZoning.isna() == True] = random.choice(['A','C','FV','I','RH','RL','RP','RM'])"
   ]
  },
  {
   "cell_type": "code",
   "execution_count": null,
   "metadata": {},
   "outputs": [],
   "source": [
    "df.LotFrontage[df.LotFrontage.isna() == True] = df.LotFrontage.median()"
   ]
  },
  {
   "cell_type": "code",
   "execution_count": null,
   "metadata": {},
   "outputs": [],
   "source": [
    "df.Alley[df.Alley.isna()==True] = 'None'"
   ]
  },
  {
   "cell_type": "code",
   "execution_count": null,
   "metadata": {},
   "outputs": [],
   "source": [
    "df.Utilities[df.Utilities.isna() == True] = random.choice(['AllPub','NoSewr','NoSeWa','ELO'])"
   ]
  },
  {
   "cell_type": "code",
   "execution_count": null,
   "metadata": {},
   "outputs": [],
   "source": [
    "df.Exterior1st[df.Exterior1st.isna()==True] = random.choice(['AsbShng','AsphShn','BrkComm','BrkFace','CBlock','CemntBd','HdBoard','ImStucc',\n",
    "                                                'MetalSd','Other','Plywodd','PreCast','Stone','Stucco','VinylSd','Wd Sdng','WdShing'])\n",
    "df.Exterior2nd[df.Exterior2nd.isna()==True] = random.choice(['AsbShng','AsphShn','BrkComm','BrkFace','CBlock','CemntBd','HdBoard','ImStucc',\n",
    "                                                'MetalSd','Other','Plywodd','PreCast','Stone','Stucco','VinylSd','Wd Sdng','WdShing'])\n"
   ]
  },
  {
   "cell_type": "code",
   "execution_count": null,
   "metadata": {},
   "outputs": [],
   "source": [
    "df.MasVnrType[df.MasVnrType.isna()==True] = random.choice(['BrkCmn','BrkFace','CBlock','None','Stone'])\n",
    "df.MasVnrArea[df.MasVnrArea.isna()==True] = df.MasVnrArea.median()"
   ]
  },
  {
   "cell_type": "code",
   "execution_count": null,
   "metadata": {},
   "outputs": [],
   "source": [
    "df.BsmtQual[(df.BsmtQual.isna()==True) & (df.BsmtCond.isna()==True) & (df.BsmtExposure.isna()==True) & (df.BsmtFinType1.isna()==True)\n",
    "   & (df.BsmtFinType2.isna()==True)] = 'None'\n",
    "df.BsmtCond[(df.BsmtQual.isna()==True) & (df.BsmtCond.isna()==True) & (df.BsmtExposure.isna()==True) & (df.BsmtFinType1.isna()==True)\n",
    "   & (df.BsmtFinType2.isna()==True)] = 'None'\n",
    "df.BsmtExposure[(df.BsmtQual.isna()==True) & (df.BsmtCond.isna()==True) & (df.BsmtExposure.isna()==True) & (df.BsmtFinType1.isna()==True)\n",
    "   & (df.BsmtFinType2.isna()==True)] = 'None'\n",
    "df.BsmtFinType1[(df.BsmtQual.isna()==True) & (df.BsmtCond.isna()==True) & (df.BsmtExposure.isna()==True) & (df.BsmtFinType1.isna()==True)\n",
    "   & (df.BsmtFinType2.isna()==True)] = 'None'\n",
    "df.BsmtFinType2[(df.BsmtQual.isna()==True) & (df.BsmtCond.isna()==True) & (df.BsmtExposure.isna()==True) & (df.BsmtFinType1.isna()==True)\n",
    "   & (df.BsmtFinType2.isna()==True)] = 'None'"
   ]
  },
  {
   "cell_type": "code",
   "execution_count": null,
   "metadata": {},
   "outputs": [],
   "source": [
    "df.BsmtQual[df.BsmtQual.isna()==True] = random.choice(['Ex','Gd','TA','Fa','Po'])\n",
    "df.BsmtCond[df.BsmtCond.isna()==True] = random.choice(['Ex','Gd','TA','Fa','Po'])\n",
    "df.BsmtExposure[df.BsmtExposure.isna()==True] = random.choice(['Gd','Av','Mn','No'])\n",
    "df.BsmtFinType1[df.BsmtFinType1.isna()==True] = random.choice(['GLQ','ALQ','BLQ','Rec','LwQ','Unf'])\n",
    "df.BsmtFinType2[df.BsmtFinType2.isna()==True] = random.choice(['GLQ','ALQ','BLQ','Rec','LwQ','Unf'])\n",
    "df.BsmtFinSF1[df.BsmtFinSF1.isna()==True]=df.BsmtFinSF1.median()\n",
    "df.BsmtFinSF2[df.BsmtFinSF2.isna()==True]=df.BsmtFinSF2.median()\n",
    "df.BsmtUnfSF[df.BsmtUnfSF.isna()==True] = df.BsmtUnfSF.median()\n",
    "df.TotalBsmtSF[df.TotalBsmtSF.isna()==True] = df.TotalBsmtSF.median()"
   ]
  },
  {
   "cell_type": "code",
   "execution_count": null,
   "metadata": {},
   "outputs": [],
   "source": [
    "df.Electrical[df.Electrical.isna()==True] = random.choice(['SBrkr','FuseA','FuseF','FuseP','Mix'])"
   ]
  },
  {
   "cell_type": "code",
   "execution_count": null,
   "metadata": {},
   "outputs": [],
   "source": [
    "df.BsmtFullBath[df.BsmtFullBath.isna()==True] = df.BsmtFullBath.median()\n",
    "df.BsmtHalfBath[df.BsmtHalfBath.isna()==True] = df.BsmtHalfBath.median()"
   ]
  },
  {
   "cell_type": "code",
   "execution_count": null,
   "metadata": {},
   "outputs": [],
   "source": [
    "df.KitchenQual[df.KitchenQual.isna()==True] = random.choice(['Ex','Gd','TA','Fa','Po'])\n",
    "df.Functional[df.Functional.isna()==True] = random.choice(['Typ','Min1','Min2','Mod','Maj1','Maj2','Sev','Sal'])"
   ]
  },
  {
   "cell_type": "code",
   "execution_count": null,
   "metadata": {},
   "outputs": [],
   "source": [
    "df.FireplaceQu[(df.FireplaceQu.isna()==True) & (df.Fireplaces == 0)] = 'None'"
   ]
  },
  {
   "cell_type": "code",
   "execution_count": null,
   "metadata": {},
   "outputs": [],
   "source": [
    "df.GarageType[(df.GarageType.isna()==True) & (df.GarageYrBlt.isna()==True) & (df.GarageFinish.isna()==True) & \n",
    "              (df.GarageCars.isna()==True) & (df.GarageArea.isna()==True) & (df.GarageQual.isna()==True) \n",
    "             & (df.GarageCond.isna()==True)] = 'None'\n",
    "df.GarageFinish[(df.GarageType.isna()==True) & (df.GarageYrBlt.isna()==True) & (df.GarageFinish.isna()==True) & \n",
    "              (df.GarageCars.isna()==True) & (df.GarageArea.isna()==True) & (df.GarageQual.isna()==True) \n",
    "             & (df.GarageCond.isna()==True)] = 'None'\n",
    "df.GarageQual[(df.GarageType.isna()==True) & (df.GarageYrBlt.isna()==True) & (df.GarageFinish.isna()==True) & \n",
    "              (df.GarageCars.isna()==True) & (df.GarageArea.isna()==True) & (df.GarageQual.isna()==True) \n",
    "             & (df.GarageCond.isna()==True)] = 'None'\n",
    "df.GarageCond[(df.GarageType.isna()==True) & (df.GarageYrBlt.isna()==True) & (df.GarageFinish.isna()==True) & \n",
    "              (df.GarageCars.isna()==True) & (df.GarageArea.isna()==True) & (df.GarageQual.isna()==True) \n",
    "             & (df.GarageCond.isna()==True)] = 'None'\n",
    "df.GarageYrBlt[(df.GarageType.isna()==True) & (df.GarageYrBlt.isna()==True) & (df.GarageFinish.isna()==True) & \n",
    "              (df.GarageCars.isna()==True) & (df.GarageArea.isna()==True) & (df.GarageQual.isna()==True) \n",
    "             & (df.GarageCond.isna()==True)] = 0\n",
    "df.GarageCars[(df.GarageType.isna()==True) & (df.GarageYrBlt.isna()==True) & (df.GarageFinish.isna()==True) & \n",
    "              (df.GarageCars.isna()==True) & (df.GarageArea.isna()==True) & (df.GarageQual.isna()==True) \n",
    "             & (df.GarageCond.isna()==True)] = 0\n",
    "df.GarageArea[(df.GarageType.isna()==True) & (df.GarageYrBlt.isna()==True) & (df.GarageFinish.isna()==True) & \n",
    "              (df.GarageCars.isna()==True) & (df.GarageArea.isna()==True) & (df.GarageQual.isna()==True) \n",
    "             & (df.GarageCond.isna()==True)] = 0"
   ]
  },
  {
   "cell_type": "code",
   "execution_count": null,
   "metadata": {},
   "outputs": [],
   "source": [
    "df.GarageType[df.GarageType.isna()==True] = random.choice(['2Types','Attchd','Basment','BuiltIn','CarPort','Detchd'])\n",
    "df.GarageYrBlt[df.GarageYrBlt.isna()==True] = df.GarageYrBlt.median()\n",
    "df.GarageFinish[df.GarageFinish.isna()==True] = random.choice(['Fin','RFn','Unf'])\n",
    "df.GarageCars[df.GarageCars.isna()==True] = df.GarageCars.median()\n",
    "df.GarageArea[df.GarageArea.isna()==True] = df.GarageArea.median()\n",
    "df.GarageQual[df.GarageQual.isna()==True] = random.choice(['Ex','Gd','TA','Fa','Po'])\n",
    "df.GarageCond[df.GarageCond.isna()==True] = random.choice(['Ex','Gd','TA','Fa','Po'])"
   ]
  },
  {
   "cell_type": "code",
   "execution_count": null,
   "metadata": {},
   "outputs": [],
   "source": [
    "df.PoolQC[(df.PoolQC.isna()==True) & (df.PoolArea == 0)] = 'None'\n",
    "df.PoolQC[df.PoolQC.isna()==True] = random.choice(['Ex','Gd','TA','Fa'])"
   ]
  },
  {
   "cell_type": "code",
   "execution_count": null,
   "metadata": {},
   "outputs": [],
   "source": [
    "df.Fence[df.Fence.isna()==True] = 'None'\n",
    "df.MiscFeature[df.MiscFeature.isna()==True] = 'None'\n",
    "df.SaleType[df.SaleType.isna()==True] = random.choice(['WD','CWD','VWD','New','COD','Con','ConLw','ConLI','ConLD','Oth'])"
   ]
  },
  {
   "cell_type": "code",
   "execution_count": null,
   "metadata": {},
   "outputs": [],
   "source": [
    "df.info()"
   ]
  },
  {
   "cell_type": "code",
   "execution_count": null,
   "metadata": {},
   "outputs": [],
   "source": [
    "df_obj = df.select_dtypes(include='object')\n",
    "df_obj_t = df[df.SalePrice.isna()==False].select_dtypes(include='object')\n",
    "\n",
    "labelencoder = preprocessing.LabelEncoder()"
   ]
  },
  {
   "cell_type": "code",
   "execution_count": null,
   "metadata": {},
   "outputs": [],
   "source": [
    "df_obj = df_obj.apply(labelencoder.fit_transform)\n",
    "df_obj[\"SalePrice\"] = df.SalePrice \n",
    "\n",
    "df_obj_t = df_obj_t.apply(labelencoder.fit_transform)\n",
    "df_obj_t[\"SalePrice\"] = train.SalePrice "
   ]
  },
  {
   "cell_type": "code",
   "execution_count": null,
   "metadata": {},
   "outputs": [],
   "source": [
    "fig=plt.figure(figsize=(13,11))\n",
    "g1 = sns.heatmap(df_obj_t.corr(),cmap='mako_r')\n",
    "g1.set_xticklabels(g1.get_xticklabels(),rotation=70,fontsize=10)\n",
    "g1.set_yticklabels(g1.get_yticklabels(),rotation=15,fontsize=10)\n",
    "plt.title(\"Correlation Plot of Features\")\n",
    "plt.show()"
   ]
  },
  {
   "cell_type": "code",
   "execution_count": null,
   "metadata": {},
   "outputs": [],
   "source": [
    "#saleprice correlation matrix\n",
    "\n",
    "cols_t = df_obj_t.corr().nlargest(10, 'SalePrice')['SalePrice'].index\n",
    "cols_t = np.array(list(reversed(cols_t)))\n",
    "cm_t = df_obj_t[cols_t].corr()\n",
    "mask_t = np.triu(np.ones_like(cm_t, dtype=np.bool))\n",
    "\n",
    "f, ax = plt.subplots(figsize=(12, 9))\n",
    "g1 = sns.heatmap(cm_t,cmap='mako_r',fmt='.2f', annot=True, mask=mask_t)\n",
    "g1.set_xticklabels(g1.get_xticklabels(),rotation=70,fontsize=10)\n",
    "g1.set_yticklabels(g1.get_yticklabels(),rotation=15,fontsize=10)\n",
    "plt.title(\"Triangle Correlation Plot of Features\")\n",
    "plt.show()"
   ]
  },
  {
   "cell_type": "markdown",
   "metadata": {},
   "source": [
    "Conclusions:\n",
    "1. Foundation has the highest correlation with SalePrice\n",
    "2. Rest of categorical features has similarly low correlation\n",
    "\n",
    "In next steps for the first try all features will be taken into the account."
   ]
  },
  {
   "cell_type": "code",
   "execution_count": null,
   "metadata": {},
   "outputs": [],
   "source": [
    "labelencoder.fit(df['HouseStyle'])\n",
    "le_name_mapping = dict(zip(labelencoder.classes_, labelencoder.transform(labelencoder.classes_)))\n",
    "print(le_name_mapping)"
   ]
  },
  {
   "cell_type": "code",
   "execution_count": null,
   "metadata": {},
   "outputs": [],
   "source": [
    "labelencoder.fit(df['Neighborhood'])\n",
    "le_name_mapping = dict(zip(labelencoder.classes_, labelencoder.transform(labelencoder.classes_)))\n",
    "print(le_name_mapping)"
   ]
  },
  {
   "cell_type": "code",
   "execution_count": null,
   "metadata": {},
   "outputs": [],
   "source": [
    "labelencoder.fit(df['SaleCondition'])\n",
    "le_name_mapping = dict(zip(labelencoder.classes_, labelencoder.transform(labelencoder.classes_)))\n",
    "print(le_name_mapping)"
   ]
  },
  {
   "cell_type": "code",
   "execution_count": null,
   "metadata": {},
   "outputs": [],
   "source": [
    "labelencoder.fit(df['RoofStyle'])\n",
    "le_name_mapping = dict(zip(labelencoder.classes_, labelencoder.transform(labelencoder.classes_)))\n",
    "print(le_name_mapping)"
   ]
  },
  {
   "cell_type": "code",
   "execution_count": null,
   "metadata": {},
   "outputs": [],
   "source": [
    "labelencoder.fit(df['PavedDrive'])\n",
    "le_name_mapping = dict(zip(labelencoder.classes_, labelencoder.transform(labelencoder.classes_)))\n",
    "print(le_name_mapping)"
   ]
  },
  {
   "cell_type": "code",
   "execution_count": null,
   "metadata": {},
   "outputs": [],
   "source": [
    "labelencoder.fit(df['Electrical'])\n",
    "le_name_mapping = dict(zip(labelencoder.classes_, labelencoder.transform(labelencoder.classes_)))\n",
    "print(le_name_mapping)"
   ]
  },
  {
   "cell_type": "code",
   "execution_count": null,
   "metadata": {},
   "outputs": [],
   "source": [
    "labelencoder.fit(df['GarageQual'])\n",
    "le_name_mapping = dict(zip(labelencoder.classes_, labelencoder.transform(labelencoder.classes_)))\n",
    "print(le_name_mapping)"
   ]
  },
  {
   "cell_type": "code",
   "execution_count": null,
   "metadata": {},
   "outputs": [],
   "source": [
    "labelencoder.fit(df['CentralAir'])\n",
    "le_name_mapping = dict(zip(labelencoder.classes_, labelencoder.transform(labelencoder.classes_)))\n",
    "print(le_name_mapping)"
   ]
  },
  {
   "cell_type": "code",
   "execution_count": null,
   "metadata": {},
   "outputs": [],
   "source": [
    "labelencoder.fit(df['Foundation'])\n",
    "le_name_mapping = dict(zip(labelencoder.classes_, labelencoder.transform(labelencoder.classes_)))\n",
    "print(le_name_mapping)"
   ]
  },
  {
   "cell_type": "code",
   "execution_count": null,
   "metadata": {},
   "outputs": [],
   "source": [
    "sns.pairplot(df_obj_t[cols_t])\n",
    "plt.show()"
   ]
  },
  {
   "cell_type": "markdown",
   "metadata": {},
   "source": [
    "Conclusions:\n",
    "1. Split Foyer and houses with finished 2nd floor are achieving the highest prices\n",
    "2. We are able to point out neighborhoods with high prices\n",
    "3. Normal sales and houses which were unfinished during last assessment have the highest price\n",
    "4. Gable and Hip roof styles increase the price\n",
    "5. Paved drive increases the price\n",
    "6. Standard electricity breakers have the highest popularity\n",
    "7. Average Garage Quality increases the price\n",
    "8. Houses with central air are achieving the highest prices\n",
    "9. Brick and Tile or Poured Contrete foundation types have influence on sale price"
   ]
  },
  {
   "cell_type": "code",
   "execution_count": null,
   "metadata": {},
   "outputs": [],
   "source": [
    "cols2 = cols_t[:9]"
   ]
  },
  {
   "cell_type": "code",
   "execution_count": null,
   "metadata": {},
   "outputs": [],
   "source": [
    "cols = cols[[0,2,4,6,7,8,9]]"
   ]
  },
  {
   "cell_type": "code",
   "execution_count": null,
   "metadata": {},
   "outputs": [],
   "source": [
    "num_data = df.dtypes[train.dtypes != \"object\"].index\n",
    "# Check the skew of all numerical features\n",
    "skewed_data = df[num_data].apply(lambda x: skew(x.dropna())).sort_values(ascending=False)\n",
    "skewness = pd.DataFrame({'Skew' :skewed_data})\n",
    "posSkew = skewness[skewness['Skew'] > 0.75]\n",
    "posSkew"
   ]
  },
  {
   "cell_type": "code",
   "execution_count": null,
   "metadata": {},
   "outputs": [],
   "source": [
    "#Make a list of skewed features\n",
    "skewed_feat= list(posSkew.index)"
   ]
  },
  {
   "cell_type": "code",
   "execution_count": null,
   "metadata": {},
   "outputs": [],
   "source": [
    "for parameter in skewed_feat:\n",
    "        df[parameter] = np.log1p(df[parameter])"
   ]
  },
  {
   "cell_type": "code",
   "execution_count": null,
   "metadata": {},
   "outputs": [],
   "source": [
    "dff = pd.concat([df[cols],df_obj[cols2]], axis=1)"
   ]
  },
  {
   "cell_type": "code",
   "execution_count": null,
   "metadata": {},
   "outputs": [],
   "source": [
    "dff.info()"
   ]
  },
  {
   "cell_type": "code",
   "execution_count": null,
   "metadata": {},
   "outputs": [],
   "source": [
    "dff.head()"
   ]
  },
  {
   "cell_type": "markdown",
   "metadata": {},
   "source": [
    "# Model fitting"
   ]
  },
  {
   "cell_type": "markdown",
   "metadata": {},
   "source": [
    "### Preparing data for model testing"
   ]
  },
  {
   "cell_type": "code",
   "execution_count": null,
   "metadata": {},
   "outputs": [],
   "source": [
    "dff_t = dff[dff.SalePrice.isna()==False]"
   ]
  },
  {
   "cell_type": "code",
   "execution_count": null,
   "metadata": {},
   "outputs": [],
   "source": [
    "X_t = dff_t.drop(\"SalePrice\",axis=1)\n",
    "Y_t = dff_t.SalePrice"
   ]
  },
  {
   "cell_type": "code",
   "execution_count": null,
   "metadata": {},
   "outputs": [],
   "source": [
    "sc = StandardScaler()"
   ]
  },
  {
   "cell_type": "code",
   "execution_count": null,
   "metadata": {},
   "outputs": [],
   "source": [
    "Xt_train, Xt_test, Yt_train, Yt_test = train_test_split(X_t, Y_t, test_size=0.33, random_state=0)"
   ]
  },
  {
   "cell_type": "code",
   "execution_count": null,
   "metadata": {},
   "outputs": [],
   "source": [
    "#Standarizing our data\n",
    "Xt_train = sc.fit_transform(Xt_train)\n",
    "Xt_test = sc.transform(Xt_test)"
   ]
  },
  {
   "cell_type": "markdown",
   "metadata": {},
   "source": [
    "### SVR and MSE result"
   ]
  },
  {
   "cell_type": "code",
   "execution_count": null,
   "metadata": {},
   "outputs": [],
   "source": [
    "regressor = svm.SVR(kernel='rbf') #Using Support Vector Regression"
   ]
  },
  {
   "cell_type": "code",
   "execution_count": null,
   "metadata": {
    "scrolled": true
   },
   "outputs": [],
   "source": [
    "param = {'C': [0.1, 1, 100, 1000],\n",
    "        'epsilon': [0.0001, 0.0005, 0.001, 0.005, 0.01, 0.05, 0.1, 0.5, 1, 5, 10],\n",
    "        'gamma': [0.0001, 0.001, 0.005, 0.1, 1, 3, 5]\n",
    "        }\n",
    "\n",
    "grids = GridSearchCV(regressor,param,cv=5, scoring = 'neg_mean_squared_error', n_jobs=-1)\n",
    "\n",
    "\n",
    "grids.fit(Xt_train,Yt_train)\n",
    "print(\"Grid search best params: \", grids.best_params_)"
   ]
  },
  {
   "cell_type": "code",
   "execution_count": null,
   "metadata": {},
   "outputs": [],
   "source": [
    "regr_svr = svm.SVR(kernel='rbf',C=1,epsilon=0.01,gamma=0.005).fit(Xt_train,Yt_train)"
   ]
  },
  {
   "cell_type": "code",
   "execution_count": null,
   "metadata": {},
   "outputs": [],
   "source": [
    "Y_pred_svr = regr_svr.predict(Xt_test)"
   ]
  },
  {
   "cell_type": "code",
   "execution_count": null,
   "metadata": {},
   "outputs": [],
   "source": [
    "mean_squared_error(Yt_test, Y_pred_svr, squared=False)"
   ]
  },
  {
   "cell_type": "markdown",
   "metadata": {},
   "source": [
    "### SVR with PCA and MSE result"
   ]
  },
  {
   "cell_type": "code",
   "execution_count": null,
   "metadata": {},
   "outputs": [],
   "source": [
    "from sklearn.decomposition import PCA\n",
    "from sklearn.pipeline import Pipeline"
   ]
  },
  {
   "cell_type": "code",
   "execution_count": null,
   "metadata": {},
   "outputs": [],
   "source": [
    "pca = PCA()\n",
    "pipe = Pipeline(steps=[('pca', pca), ('regressor', regressor)])\n",
    "param_grid = {\n",
    "    'pca__n_components': [2, 3, 5],\n",
    "    'regressor__C': [0.1, 1, 100, 1000],\n",
    "    'regressor__epsilon': [0.0001, 0.0005, 0.001, 0.005, 0.01, 0.05, 0.1, 0.5, 1, 5, 10],\n",
    "    'regressor__gamma': [0.0001, 0.001, 0.005, 0.1, 1, 3, 5]\n",
    "}"
   ]
  },
  {
   "cell_type": "code",
   "execution_count": null,
   "metadata": {},
   "outputs": [],
   "source": [
    "grid_pca = GridSearchCV(pipe, param_grid, n_jobs=-1, scoring = 'neg_mean_squared_error')\n",
    "grid_pca.fit(Xt_train, Yt_train)\n",
    "print(\"Grid search best params: \", grid_pca.best_params_)"
   ]
  },
  {
   "cell_type": "code",
   "execution_count": null,
   "metadata": {},
   "outputs": [],
   "source": [
    "Y_pred_pca = grid_pca.predict(Xt_test)"
   ]
  },
  {
   "cell_type": "code",
   "execution_count": null,
   "metadata": {},
   "outputs": [],
   "source": [
    "mean_squared_error(Yt_test, Y_pred_pca, squared=False)"
   ]
  },
  {
   "cell_type": "markdown",
   "metadata": {},
   "source": [
    "PCA is not improving the score which might be cause of the fact that new components are linear combination of the original features."
   ]
  },
  {
   "cell_type": "markdown",
   "metadata": {},
   "source": [
    "### Linear Regression and MSE result"
   ]
  },
  {
   "cell_type": "code",
   "execution_count": null,
   "metadata": {},
   "outputs": [],
   "source": [
    "from sklearn.linear_model import LinearRegression"
   ]
  },
  {
   "cell_type": "code",
   "execution_count": null,
   "metadata": {},
   "outputs": [],
   "source": [
    "linear_regression = LinearRegression()"
   ]
  },
  {
   "cell_type": "code",
   "execution_count": null,
   "metadata": {},
   "outputs": [],
   "source": [
    "parameters = {'fit_intercept':[True,False], 'normalize':[True,False], 'copy_X':[True, False]}\n",
    "grid_linear = GridSearchCV(linear_regression,parameters, cv=5, scoring = 'neg_mean_squared_error')\n",
    "grid_linear = grid_linear.fit(Xt_train,Yt_train)\n",
    "print(\"Grid search best params: \", grid_linear.best_params_)"
   ]
  },
  {
   "cell_type": "code",
   "execution_count": null,
   "metadata": {},
   "outputs": [],
   "source": [
    "linear_regr = LinearRegression(copy_X=True,fit_intercept=True,normalize=True).fit(Xt_train,Yt_train)"
   ]
  },
  {
   "cell_type": "code",
   "execution_count": null,
   "metadata": {},
   "outputs": [],
   "source": [
    "Y_pred_linear = linear_regr.predict(Xt_test)"
   ]
  },
  {
   "cell_type": "code",
   "execution_count": null,
   "metadata": {},
   "outputs": [],
   "source": [
    "mean_squared_error(Yt_test, Y_pred_linear, squared=False)"
   ]
  },
  {
   "cell_type": "markdown",
   "metadata": {},
   "source": [
    "### Random Forest Regressor and MSE result"
   ]
  },
  {
   "cell_type": "code",
   "execution_count": null,
   "metadata": {},
   "outputs": [],
   "source": [
    "from sklearn.ensemble import RandomForestRegressor"
   ]
  },
  {
   "cell_type": "code",
   "execution_count": null,
   "metadata": {},
   "outputs": [],
   "source": [
    "random_forest = RandomForestRegressor()"
   ]
  },
  {
   "cell_type": "code",
   "execution_count": null,
   "metadata": {},
   "outputs": [],
   "source": [
    "param = {'C': [0.1, 1, 100, 1000],\n",
    "        'epsilon': [0.0001, 0.0005, 0.001, 0.005, 0.01, 0.05, 0.1, 0.5, 1, 5, 10],\n",
    "        'gamma': [0.0001, 0.001, 0.005, 0.1, 1, 3, 5]\n",
    "        }\n",
    "\n",
    "grids = GridSearchCV(regressor,param,cv=5, scoring = 'neg_mean_squared_error', n_jobs=-1)\n",
    "\n",
    "\n",
    "grids.fit(Xt_train,Yt_train)\n",
    "print(\"Grid search best params: \", grids.best_params_)"
   ]
  },
  {
   "cell_type": "code",
   "execution_count": null,
   "metadata": {},
   "outputs": [],
   "source": [
    "forest = RandomForestRegressor(bootstrap=True,max_features='sqrt',n_estimators=100).fit(Xt_train,Yt_train)"
   ]
  },
  {
   "cell_type": "code",
   "execution_count": null,
   "metadata": {},
   "outputs": [],
   "source": [
    "Y_pred_forest = forest.predict(Xt_test)"
   ]
  },
  {
   "cell_type": "code",
   "execution_count": null,
   "metadata": {},
   "outputs": [],
   "source": [
    "mean_squared_error(Yt_test, Y_pred_forest, squared=False)"
   ]
  },
  {
   "cell_type": "markdown",
   "metadata": {},
   "source": [
    "# Choosing model with the lowest MSE"
   ]
  },
  {
   "cell_type": "code",
   "execution_count": null,
   "metadata": {},
   "outputs": [],
   "source": [
    "dff_train = dff[dff.SalePrice.isna()==False]\n",
    "dff_test = dff[dff.SalePrice.isna()==True]"
   ]
  },
  {
   "cell_type": "code",
   "execution_count": null,
   "metadata": {},
   "outputs": [],
   "source": [
    "X_train = dff_train.drop(\"SalePrice\",axis=1)\n",
    "Y_train = dff_train.SalePrice\n",
    "\n",
    "X_test = dff_test.drop(\"SalePrice\",axis=1)"
   ]
  },
  {
   "cell_type": "code",
   "execution_count": null,
   "metadata": {},
   "outputs": [],
   "source": [
    "#Standarizing the data\n",
    "X_train = sc.fit_transform(X_train)\n",
    "\n",
    "X_test = sc.transform(X_test)"
   ]
  },
  {
   "cell_type": "code",
   "execution_count": null,
   "metadata": {},
   "outputs": [],
   "source": [
    "para_grids = {\n",
    "            \"n_estimators\" : [10,50,100],\n",
    "            \"max_features\" : [\"auto\", \"log2\", \"sqrt\"],\n",
    "            \"bootstrap\"    : [True, False]\n",
    "        }\n",
    "\n",
    "\n",
    "grid_forest_final = GridSearchCV(random_forest, para_grids,cv=5, scoring = 'neg_mean_squared_error')\n",
    "grid_forest_final.fit(Xt_train, Yt_train)\n",
    "print(\"Grid search best params: \", grid_forest_final.best_params_)"
   ]
  },
  {
   "cell_type": "code",
   "execution_count": null,
   "metadata": {},
   "outputs": [],
   "source": [
    "Y_predicted=grid_forest_final.predict(X_test)"
   ]
  },
  {
   "cell_type": "code",
   "execution_count": null,
   "metadata": {},
   "outputs": [],
   "source": [
    "Y_predicted = np.exp(Y_predicted)"
   ]
  },
  {
   "cell_type": "code",
   "execution_count": null,
   "metadata": {},
   "outputs": [],
   "source": [
    "my_submission = pd.DataFrame({'Id': test.Id, 'SalePrice': Y_predicted})\n",
    "my_submission"
   ]
  },
  {
   "cell_type": "code",
   "execution_count": null,
   "metadata": {},
   "outputs": [],
   "source": [
    "my_submission.to_csv('submission.csv', index=False)"
   ]
  },
  {
   "cell_type": "code",
   "execution_count": null,
   "metadata": {},
   "outputs": [],
   "source": []
  }
 ],
 "metadata": {
  "kernelspec": {
   "display_name": "Python 3",
   "language": "python",
   "name": "python3"
  },
  "language_info": {
   "codemirror_mode": {
    "name": "ipython",
    "version": 3
   },
   "file_extension": ".py",
   "mimetype": "text/x-python",
   "name": "python",
   "nbconvert_exporter": "python",
   "pygments_lexer": "ipython3",
   "version": "3.8.3"
  }
 },
 "nbformat": 4,
 "nbformat_minor": 4
}
